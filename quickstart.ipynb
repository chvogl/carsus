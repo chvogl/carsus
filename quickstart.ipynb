{
 "cells": [
  {
   "cell_type": "markdown",
   "metadata": {},
   "source": [
    "# Quickstart for Carsus\n",
    "\n",
    "In this guide you will learn how to create an atomic data file suitable for [TARDIS](https://github.com/tardis-sn/tardis)."
   ]
  },
  {
   "cell_type": "markdown",
   "metadata": {},
   "source": [
    "## Atomic Weights and Ionization Energies\n",
    "\n",
    "Atomic weights and ionization energies are taken from the National Institute of Standards and Technology (NIST).\n",
    "\n",
    "<div class=\"alert alert-info\">\n",
    "\n",
    "**See also:**\n",
    "\n",
    "Get familiar with [Notation in Carsus](development/notation.rst).\n",
    "    \n",
    "</div>"
   ]
  },
  {
   "cell_type": "code",
   "execution_count": 1,
   "metadata": {},
   "outputs": [
    {
     "name": "stdout",
     "output_type": "stream",
     "text": [
      " ChiantiPy version 0.8.4 \n",
      " found PyQt5 widgets\n",
      " using PyQt5 widgets\n"
     ]
    },
    {
     "name": "stdout",
     "output_type": "stream",
     "text": [
      "[\u001b[1m carsus.io.nist.weightscomp\u001b[0m][\u001b[1;37mINFO\u001b[0m] - Downloading data from the NIST Atomic Weights and Isotopic Compositions Database. (\u001b[1mweightscomp.py\u001b[0m:49)\n"
     ]
    },
    {
     "name": "stdout",
     "output_type": "stream",
     "text": [
      "[\u001b[1m  carsus.io.nist.ionization\u001b[0m][\u001b[1;37mINFO\u001b[0m] - Downloading ionization energies from the NIST Atomic Spectra Database. (\u001b[1mionization.py\u001b[0m:65)\n"
     ]
    }
   ],
   "source": [
    "from carsus.io.nist import NISTWeightsComp, NISTIonizationEnergies\n",
    "\n",
    "atomic_weights = NISTWeightsComp()\n",
    "ionization_energies = NISTIonizationEnergies('H-Zn')"
   ]
  },
  {
   "cell_type": "markdown",
   "metadata": {},
   "source": [
    "## Levels, Lines and Collisions\n",
    "\n",
    "Carsus supports three sources of energy levels and spectral lines: GFALL, CHIANTI and CMFGEN.\n",
    "\n",
    "### GFALL\n",
    "\n",
    "The Robert Kurucz's Atomic Linelist (GFALL) is the main source of levels and lines."
   ]
  },
  {
   "cell_type": "code",
   "execution_count": 2,
   "metadata": {},
   "outputs": [
    {
     "name": "stdout",
     "output_type": "stream",
     "text": [
      "[\u001b[1m     carsus.io.kurucz.gfall\u001b[0m][\u001b[1;33mWARNING\u001b[0m] - A specific combination to identify unique levels from GFALL data has not been given. Defaulting to [\"energy\", \"j\"]. (\u001b[1mgfall.py\u001b[0m:95)\n"
     ]
    }
   ],
   "source": [
    "from carsus.io.kurucz import GFALLReader\n",
    "\n",
    "gfall_reader = GFALLReader('H-Zn')"
   ]
  },
  {
   "cell_type": "markdown",
   "metadata": {},
   "source": [
    "<div class=\"alert alert-warning\">\n",
    "\n",
    "**Warning:**\n",
    "    \n",
    "Creating a `GFALLReader` instance is **required**. Other sources of levels and lines are **optional**.\n",
    "\n",
    "</div>\n",
    "\n",
    "### CHIANTI\n",
    "\n",
    "The Chianti Atomic Database is also a source of collision strengths."
   ]
  },
  {
   "cell_type": "code",
   "execution_count": 3,
   "metadata": {},
   "outputs": [],
   "source": [
    "from carsus.io.chianti_ import ChiantiReader\n",
    "\n",
    "chianti_reader = ChiantiReader('H-He', collisions=True, priority=20)"
   ]
  },
  {
   "cell_type": "markdown",
   "metadata": {},
   "source": [
    "By default `priority` parameter is set to `10`. Increase this value if you want to keep CHIANTI levels and lines over GFALL."
   ]
  },
  {
   "cell_type": "markdown",
   "metadata": {},
   "source": [
    "### CMFGEN\n",
    "\n",
    "Ingestion of energy levels and spectral lines from the CMFGEN Atomic Data is not so straightforward.\n",
    "\n",
    "You'll need to parse the files manually, construct a dictionary and create a `CMFGENReader` object."
   ]
  },
  {
   "cell_type": "code",
   "execution_count": 4,
   "metadata": {},
   "outputs": [],
   "source": [
    "from carsus.io.cmfgen import CMFGENReader, CMFGENEnergyLevelsParser, CMFGENOscillatorStrengthsParser\n",
    "\n",
    "# Parse levels\n",
    "si_0_lvl = CMFGENEnergyLevelsParser('/tmp/atomic/SIL/I/23nov11/SiI_OSC')\n",
    "si_1_lvl = CMFGENEnergyLevelsParser('/tmp/atomic/SIL/II/16sep15/si2_osc_kurucz')\n",
    "\n",
    "# Parse lines\n",
    "si_0_osc = CMFGENOscillatorStrengthsParser('/tmp/atomic/SIL/I/23nov11/SiI_OSC')\n",
    "si_1_osc = CMFGENOscillatorStrengthsParser('/tmp/atomic/SIL/II/16sep15/si2_osc_kurucz')\n",
    "\n",
    "# Create dict\n",
    "cmfgen_data = {'Si 0': {'levels': si_0_lvl, 'lines': si_0_osc},\n",
    "               'Si 1': {'levels': si_1_lvl, 'lines': si_1_osc},}\n",
    "\n",
    "cmfgen_reader = CMFGENReader(cmfgen_data, priority=20)"
   ]
  },
  {
   "cell_type": "markdown",
   "metadata": {},
   "source": [
    "## Zeta Data\n",
    "\n",
    "The Knox S. Long's ground state recombinations fractions ($\\zeta$)."
   ]
  },
  {
   "cell_type": "code",
   "execution_count": 5,
   "metadata": {},
   "outputs": [],
   "source": [
    "from carsus.io.zeta import KnoxLongZeta\n",
    "\n",
    "zeta_data = KnoxLongZeta()"
   ]
  },
  {
   "cell_type": "markdown",
   "metadata": {},
   "source": [
    "## Dump to HDF5\n",
    "\n",
    "Finally, create a `TARDISAtomData` object and dump the data with the `to_hdf` method."
   ]
  },
  {
   "cell_type": "code",
   "execution_count": 6,
   "metadata": {
    "scrolled": true
   },
   "outputs": [
    {
     "name": "stdout",
     "output_type": "stream",
     "text": [
      "[\u001b[1m      carsus.io.output.base\u001b[0m][\u001b[1;37mINFO\u001b[0m] - Ingesting energy levels. (\u001b[1mbase.py\u001b[0m:291)\n"
     ]
    },
    {
     "name": "stdout",
     "output_type": "stream",
     "text": [
      "[\u001b[1m     carsus.io.kurucz.gfall\u001b[0m][\u001b[1;37mINFO\u001b[0m] - Parsing GFALL from: https://media.githubusercontent.com/media/tardis-sn/carsus-db/master/gfall/gfall_latest.dat (\u001b[1mgfall.py\u001b[0m:148)\n"
     ]
    },
    {
     "name": "stdout",
     "output_type": "stream",
     "text": [
      "[\u001b[1m      carsus.io.output.base\u001b[0m][\u001b[1;37mINFO\u001b[0m] - GFALL selected species: Li 0, Li 1, Be 0, Be 1, Be 2, B 0, B 1, B 2, B 3, C 0, C 1, C 2, C 3, N 0, N 1, N 2, N 3, N 4, N 5, O 0, O 1, O 2, O 3, O 4, O 5, F 0, F 1, F 2, F 3, F 4, F 5, Ne 0, Ne 1, Ne 2, Ne 3, Ne 4, Ne 5, Na 0, Na 1, Na 2, Na 3, Na 4, Na 5, Mg 0, Mg 1, Mg 2, Mg 3, Mg 4, Mg 5, Al 0, Al 1, Al 2, Al 3, Al 4, Al 5, Si 2, Si 3, Si 4, Si 5, P 0, P 1, P 2, P 3, P 4, P 5, S 0, S 1, S 2, S 3, S 4, S 5, Cl 0, Cl 1, Cl 2, Cl 3, Cl 4, Ar 0, Ar 1, Ar 2, Ar 3, Ar 4, K 0, K 1, K 2, K 3, K 4, Ca 0, Ca 1, Ca 2, Ca 3, Ca 4, Ca 5, Ca 6, Ca 7, Ca 8, Sc 0, Sc 1, Sc 2, Sc 3, Sc 4, Sc 5, Sc 6, Sc 7, Sc 8, Ti 0, Ti 1, Ti 2, Ti 3, Ti 4, Ti 5, Ti 6, Ti 7, Ti 8, V 0, V 1, V 2, V 3, V 4, V 5, V 6, V 7, V 8, Cr 0, Cr 1, Cr 2, Cr 3, Cr 4, Cr 5, Cr 6, Cr 7, Cr 8, Mn 0, Mn 1, Mn 2, Mn 3, Mn 4, Mn 5, Mn 6, Mn 7, Mn 8, Fe 0, Fe 1, Fe 2, Fe 3, Fe 4, Fe 5, Fe 6, Fe 7, Fe 8, Co 0, Co 1, Co 2, Co 3, Co 4, Co 5, Co 6, Co 7, Co 8, Ni 0, Ni 1, Ni 2, Ni 3, Ni 4, Ni 5, Ni 6, Ni 7, Ni 8, Cu 0, Cu 1, Zn 0, Zn 1, Zn 2. (\u001b[1mbase.py\u001b[0m:325)\n"
     ]
    },
    {
     "name": "stdout",
     "output_type": "stream",
     "text": [
      "[\u001b[1m      carsus.io.output.base\u001b[0m][\u001b[1;37mINFO\u001b[0m] - Chianti selected species: H 0, He 0, He 1. (\u001b[1mbase.py\u001b[0m:329)\n"
     ]
    },
    {
     "name": "stdout",
     "output_type": "stream",
     "text": [
      "[\u001b[1m      carsus.io.output.base\u001b[0m][\u001b[1;37mINFO\u001b[0m] - CMFGEN selected species: Si 0, Si 1. (\u001b[1mbase.py\u001b[0m:333)\n"
     ]
    },
    {
     "name": "stdout",
     "output_type": "stream",
     "text": [
      "[\u001b[1m      carsus.io.output.base\u001b[0m][\u001b[1;37mINFO\u001b[0m] - Ingesting transition lines. (\u001b[1mbase.py\u001b[0m:381)\n"
     ]
    },
    {
     "name": "stdout",
     "output_type": "stream",
     "text": [
      "[\u001b[1m     carsus.io.kurucz.gfall\u001b[0m][\u001b[1;37mINFO\u001b[0m] - Extracting line data: atomic_number, ion_charge, energy_lower, j_lower, energy_upper, j_upper, wavelength, loggf. (\u001b[1mgfall.py\u001b[0m:352)\n"
     ]
    },
    {
     "name": "stdout",
     "output_type": "stream",
     "text": [
      "[\u001b[1m      carsus.io.output.base\u001b[0m][\u001b[1;37mINFO\u001b[0m] - Matching lines and levels. (\u001b[1mbase.py\u001b[0m:420)\n"
     ]
    },
    {
     "name": "stdout",
     "output_type": "stream",
     "text": [
      "[\u001b[1m                py.warnings\u001b[0m][\u001b[1;33mWARNING\u001b[0m] - /usr/share/miniconda3/envs/carsus/lib/python3.6/site-packages/pandas/core/series.py:679: RuntimeWarning: divide by zero encountered in log10\n",
      "  result = getattr(ufunc, method)(*inputs, **kwargs)\n",
      " (\u001b[1mwarnings.py\u001b[0m:99)\n"
     ]
    },
    {
     "name": "stdout",
     "output_type": "stream",
     "text": [
      "[\u001b[1m      carsus.io.output.base\u001b[0m][\u001b[1;37mINFO\u001b[0m] - Ingesting collisional strengths. (\u001b[1mbase.py\u001b[0m:562)\n"
     ]
    },
    {
     "name": "stdout",
     "output_type": "stream",
     "text": [
      "[\u001b[1m      carsus.io.output.base\u001b[0m][\u001b[1;37mINFO\u001b[0m] - Matching collisions and levels. (\u001b[1mbase.py\u001b[0m:574)\n"
     ]
    },
    {
     "name": "stdout",
     "output_type": "stream",
     "text": [
      "[\u001b[1m      carsus.io.output.base\u001b[0m][\u001b[1;37mINFO\u001b[0m] - Finished. (\u001b[1mbase.py\u001b[0m:77)\n"
     ]
    }
   ],
   "source": [
    "from carsus.io.output import TARDISAtomData\n",
    "\n",
    "atom_data = TARDISAtomData(atomic_weights,\n",
    "                           ionization_energies,\n",
    "                           gfall_reader,\n",
    "                           zeta_data,\n",
    "                           chianti_reader,\n",
    "                           cmfgen_reader)"
   ]
  },
  {
   "cell_type": "code",
   "execution_count": 7,
   "metadata": {},
   "outputs": [
    {
     "name": "stdout",
     "output_type": "stream",
     "text": [
      "[\u001b[1m      carsus.io.output.base\u001b[0m][\u001b[1;37mINFO\u001b[0m] - Signing TARDISAtomData. (\u001b[1mbase.py\u001b[0m:933)\n"
     ]
    },
    {
     "name": "stdout",
     "output_type": "stream",
     "text": [
      "[\u001b[1m      carsus.io.output.base\u001b[0m][\u001b[1;37mINFO\u001b[0m] - MD5: 4ac331622ed3a57afc104194e2f40483 (\u001b[1mbase.py\u001b[0m:934)\n"
     ]
    },
    {
     "name": "stdout",
     "output_type": "stream",
     "text": [
      "[\u001b[1m      carsus.io.output.base\u001b[0m][\u001b[1;37mINFO\u001b[0m] - UUID1: 32e07a7ae75f11eb82a000224821fa3a (\u001b[1mbase.py\u001b[0m:935)\n"
     ]
    }
   ],
   "source": [
    "atom_data.to_hdf('kurucz_cd23_chianti_H-He_cmfgen_Si_I-II.h5')"
   ]
  },
  {
   "cell_type": "markdown",
   "metadata": {},
   "source": [
    "You are done! Now you can use your file to run TARDIS simulations."
   ]
  },
  {
   "cell_type": "markdown",
   "metadata": {},
   "source": [
    "## Metadata\n",
    "\n",
    "Carsus stores metadata inside the HDF5 files to ensure reproducibility. This metadata includes a checksum per `DataFrame`, the current version of every dataset and relevant software versions. "
   ]
  },
  {
   "cell_type": "code",
   "execution_count": 8,
   "metadata": {},
   "outputs": [],
   "source": [
    "import pandas as pd"
   ]
  },
  {
   "cell_type": "code",
   "execution_count": 9,
   "metadata": {},
   "outputs": [
    {
     "data": {
      "text/html": [
       "<div>\n",
       "<style scoped>\n",
       "    .dataframe tbody tr th:only-of-type {\n",
       "        vertical-align: middle;\n",
       "    }\n",
       "\n",
       "    .dataframe tbody tr th {\n",
       "        vertical-align: top;\n",
       "    }\n",
       "\n",
       "    .dataframe thead th {\n",
       "        text-align: right;\n",
       "    }\n",
       "</style>\n",
       "<table border=\"1\" class=\"dataframe\">\n",
       "  <thead>\n",
       "    <tr style=\"text-align: right;\">\n",
       "      <th></th>\n",
       "      <th></th>\n",
       "      <th>value</th>\n",
       "    </tr>\n",
       "    <tr>\n",
       "      <th>field</th>\n",
       "      <th>key</th>\n",
       "      <th></th>\n",
       "    </tr>\n",
       "  </thead>\n",
       "  <tbody>\n",
       "    <tr>\n",
       "      <th rowspan=\"9\" valign=\"top\">md5sum</th>\n",
       "      <th>atom_data</th>\n",
       "      <td>634785f05c4868f929c8</td>\n",
       "    </tr>\n",
       "    <tr>\n",
       "      <th>collision_data</th>\n",
       "      <td>99a12d9dfddbff1863ca</td>\n",
       "    </tr>\n",
       "    <tr>\n",
       "      <th>collision_data_temperatures</th>\n",
       "      <td>1b7075429ee24b944ed5</td>\n",
       "    </tr>\n",
       "    <tr>\n",
       "      <th>ionization_data</th>\n",
       "      <td>964eab7338ffdd4846b3</td>\n",
       "    </tr>\n",
       "    <tr>\n",
       "      <th>levels</th>\n",
       "      <td>6c5f0ba0e0f2a2a8668d</td>\n",
       "    </tr>\n",
       "    <tr>\n",
       "      <th>lines</th>\n",
       "      <td>2ff388e2dfcbc1a455d5</td>\n",
       "    </tr>\n",
       "    <tr>\n",
       "      <th>macro_atom_data</th>\n",
       "      <td>5eb7e39586d4f83307ca</td>\n",
       "    </tr>\n",
       "    <tr>\n",
       "      <th>macro_atom_references</th>\n",
       "      <td>13ac4c0ea61d31537a2a</td>\n",
       "    </tr>\n",
       "    <tr>\n",
       "      <th>zeta_data</th>\n",
       "      <td>f2496cec5c219dfb6d63</td>\n",
       "    </tr>\n",
       "    <tr>\n",
       "      <th rowspan=\"4\" valign=\"top\">datasets</th>\n",
       "      <th>nist_weights</th>\n",
       "      <td>4.1</td>\n",
       "    </tr>\n",
       "    <tr>\n",
       "      <th>nist_spectra</th>\n",
       "      <td>5.8</td>\n",
       "    </tr>\n",
       "    <tr>\n",
       "      <th>gfall.dat</th>\n",
       "      <td>2704fbda0b8cba61bb70</td>\n",
       "    </tr>\n",
       "    <tr>\n",
       "      <th>chianti_data</th>\n",
       "      <td>9.0.1</td>\n",
       "    </tr>\n",
       "    <tr>\n",
       "      <th rowspan=\"8\" valign=\"top\">software</th>\n",
       "      <th>python</th>\n",
       "      <td>3.6.13</td>\n",
       "    </tr>\n",
       "    <tr>\n",
       "      <th>carsus</th>\n",
       "      <td>0.1.dev652+g9f6d308</td>\n",
       "    </tr>\n",
       "    <tr>\n",
       "      <th>astropy</th>\n",
       "      <td>3.2.3</td>\n",
       "    </tr>\n",
       "    <tr>\n",
       "      <th>numpy</th>\n",
       "      <td>1.15.4</td>\n",
       "    </tr>\n",
       "    <tr>\n",
       "      <th>pandas</th>\n",
       "      <td>1.0.5</td>\n",
       "    </tr>\n",
       "    <tr>\n",
       "      <th>pyarrow</th>\n",
       "      <td>0.14.1</td>\n",
       "    </tr>\n",
       "    <tr>\n",
       "      <th>tables</th>\n",
       "      <td>3.6.1</td>\n",
       "    </tr>\n",
       "    <tr>\n",
       "      <th>ChiantiPy</th>\n",
       "      <td>0.8.4</td>\n",
       "    </tr>\n",
       "  </tbody>\n",
       "</table>\n",
       "</div>"
      ],
      "text/plain": [
       "                                                     value\n",
       "field    key                                              \n",
       "md5sum   atom_data                    634785f05c4868f929c8\n",
       "         collision_data               99a12d9dfddbff1863ca\n",
       "         collision_data_temperatures  1b7075429ee24b944ed5\n",
       "         ionization_data              964eab7338ffdd4846b3\n",
       "         levels                       6c5f0ba0e0f2a2a8668d\n",
       "         lines                        2ff388e2dfcbc1a455d5\n",
       "         macro_atom_data              5eb7e39586d4f83307ca\n",
       "         macro_atom_references        13ac4c0ea61d31537a2a\n",
       "         zeta_data                    f2496cec5c219dfb6d63\n",
       "datasets nist_weights                                  4.1\n",
       "         nist_spectra                                  5.8\n",
       "         gfall.dat                    2704fbda0b8cba61bb70\n",
       "         chianti_data                                9.0.1\n",
       "software python                                     3.6.13\n",
       "         carsus                        0.1.dev652+g9f6d308\n",
       "         astropy                                     3.2.3\n",
       "         numpy                                      1.15.4\n",
       "         pandas                                      1.0.5\n",
       "         pyarrow                                    0.14.1\n",
       "         tables                                      3.6.1\n",
       "         ChiantiPy                                   0.8.4"
      ]
     },
     "execution_count": 9,
     "metadata": {},
     "output_type": "execute_result"
    }
   ],
   "source": [
    "pd.read_hdf('kurucz_cd23_chianti_H-He_cmfgen_Si_I-II.h5', key='meta')"
   ]
  },
  {
   "cell_type": "code",
   "execution_count": 10,
   "metadata": {
    "nbsphinx": "hidden"
   },
   "outputs": [
    {
     "name": "stdout",
     "output_type": "stream",
     "text": [
      "rm: cannot remove 'kurucz_cd23_chianti_H-He.h5': No such file or directory\r\n"
     ]
    }
   ],
   "source": [
    "# nbsphinx hidden cell\n",
    "!rm kurucz_cd23_chianti_H-He.h5"
   ]
  }
 ],
 "metadata": {
  "kernelspec": {
   "display_name": "Python 3",
   "language": "python",
   "name": "python3"
  },
  "language_info": {
   "codemirror_mode": {
    "name": "ipython",
    "version": 3
   },
   "file_extension": ".py",
   "mimetype": "text/x-python",
   "name": "python",
   "nbconvert_exporter": "python",
   "pygments_lexer": "ipython3",
   "version": "3.6.13"
  },
  "widgets": {
   "application/vnd.jupyter.widget-state+json": {
    "state": {},
    "version_major": 2,
    "version_minor": 0
   }
  }
 },
 "nbformat": 4,
 "nbformat_minor": 2
}
