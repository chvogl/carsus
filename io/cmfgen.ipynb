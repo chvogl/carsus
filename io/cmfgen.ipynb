{
 "cells": [
  {
   "cell_type": "markdown",
   "metadata": {},
   "source": [
    "# CMFGEN\n",
    "\n",
    "Database from John Hillier’s CMFGEN, a radiative transfer code designed to solve the radiative transfer and statistical equilibrium equations in spherical geometry.\n",
    "\n",
    "<div class=\"alert alert-info\">\n",
    "\n",
    "**Note:**\n",
    "    \n",
    "In this example, the data was downloaded from the [CMFGEN website](http://kookaburra.phyast.pitt.edu/hillier/web/CMFGEN.htm) and extracted to the `/tmp/atomic` folder.\n",
    "    \n",
    "</div>\n",
    "\n"
   ]
  },
  {
   "cell_type": "markdown",
   "metadata": {},
   "source": [
    "## Parsers\n",
    "\n",
    "The CMFGEN parsers read data from text files and retrieves the information as DataFrames. Currently `osc`, `col` and `pho` files are supported.\n",
    "\n",
    "\n",
    "### Levels, Lines and Collisions\n",
    "\n",
    "Energy levels and spectral lines are stored in the `osc` files, while collisions strengths are kept in the `col` files."
   ]
  },
  {
   "cell_type": "code",
   "execution_count": 1,
   "metadata": {},
   "outputs": [
    {
     "name": "stdout",
     "output_type": "stream",
     "text": [
      " ChiantiPy version 0.8.4 \n",
      " found PyQt5 widgets\n",
      " using PyQt5 widgets\n"
     ]
    }
   ],
   "source": [
    "from carsus.io.cmfgen import CMFGENEnergyLevelsParser, CMFGENOscillatorStrengthsParser, CMFGENCollisionalStrengthsParser"
   ]
  },
  {
   "cell_type": "code",
   "execution_count": 2,
   "metadata": {},
   "outputs": [],
   "source": [
    "si2_lvl = CMFGENEnergyLevelsParser('/tmp/atomic/SIL/II/16sep15/si2_osc_kurucz')"
   ]
  },
  {
   "cell_type": "code",
   "execution_count": 3,
   "metadata": {},
   "outputs": [],
   "source": [
    "si2_osc = CMFGENOscillatorStrengthsParser('/tmp/atomic/SIL/II/16sep15/si2_osc_kurucz')"
   ]
  },
  {
   "cell_type": "code",
   "execution_count": 4,
   "metadata": {},
   "outputs": [],
   "source": [
    "si2_col = CMFGENCollisionalStrengthsParser('/tmp/atomic/SIL/II/16sep15/si2_col')"
   ]
  },
  {
   "cell_type": "markdown",
   "metadata": {},
   "source": [
    "The header information is stored in the `meta` attribute, for example:"
   ]
  },
  {
   "cell_type": "code",
   "execution_count": 5,
   "metadata": {},
   "outputs": [
    {
     "data": {
      "text/plain": [
       "{'Number of transitions': '406',\n",
       " 'Number of T values OMEGA tabulated at': '14',\n",
       " 'Scaling factor for OMEGA (non-FILE values)': '1.0',\n",
       " 'Value for OMEGA if f=0': '0.1'}"
      ]
     },
     "execution_count": 5,
     "metadata": {},
     "output_type": "execute_result"
    }
   ],
   "source": [
    "si2_col.meta"
   ]
  },
  {
   "cell_type": "markdown",
   "metadata": {},
   "source": [
    "And the table is stored in the `base` attribute:"
   ]
  },
  {
   "cell_type": "code",
   "execution_count": 6,
   "metadata": {},
   "outputs": [
    {
     "data": {
      "text/html": [
       "<div>\n",
       "<style scoped>\n",
       "    .dataframe tbody tr th:only-of-type {\n",
       "        vertical-align: middle;\n",
       "    }\n",
       "\n",
       "    .dataframe tbody tr th {\n",
       "        vertical-align: top;\n",
       "    }\n",
       "\n",
       "    .dataframe thead th {\n",
       "        text-align: right;\n",
       "    }\n",
       "</style>\n",
       "<table border=\"1\" class=\"dataframe\">\n",
       "  <thead>\n",
       "    <tr style=\"text-align: right;\">\n",
       "      <th></th>\n",
       "      <th>Configuration</th>\n",
       "      <th>g</th>\n",
       "      <th>E(cm^-1)</th>\n",
       "      <th>10^15 Hz</th>\n",
       "      <th>eV</th>\n",
       "      <th>Lam(A)</th>\n",
       "      <th>ID</th>\n",
       "      <th>ARAD</th>\n",
       "      <th>C4</th>\n",
       "      <th>C6</th>\n",
       "    </tr>\n",
       "  </thead>\n",
       "  <tbody>\n",
       "    <tr>\n",
       "      <th>0</th>\n",
       "      <td>3s2_3p_2Po[1/2]</td>\n",
       "      <td>2.0</td>\n",
       "      <td>0.00</td>\n",
       "      <td>3.95241</td>\n",
       "      <td>16.346</td>\n",
       "      <td>758.5</td>\n",
       "      <td>1</td>\n",
       "      <td>0.000000e+00</td>\n",
       "      <td>-5.290000e-17</td>\n",
       "      <td>7.470000e-33</td>\n",
       "    </tr>\n",
       "    <tr>\n",
       "      <th>1</th>\n",
       "      <td>3s2_3p_2Po[3/2]</td>\n",
       "      <td>4.0</td>\n",
       "      <td>287.24</td>\n",
       "      <td>3.94380</td>\n",
       "      <td>16.310</td>\n",
       "      <td>760.2</td>\n",
       "      <td>2</td>\n",
       "      <td>0.000000e+00</td>\n",
       "      <td>-5.300000e-17</td>\n",
       "      <td>7.460000e-33</td>\n",
       "    </tr>\n",
       "    <tr>\n",
       "      <th>2</th>\n",
       "      <td>3s_3p2_4Pe[1/2]</td>\n",
       "      <td>2.0</td>\n",
       "      <td>42824.29</td>\n",
       "      <td>2.66857</td>\n",
       "      <td>11.036</td>\n",
       "      <td>1123.0</td>\n",
       "      <td>3</td>\n",
       "      <td>1.222000e+04</td>\n",
       "      <td>-5.340000e-17</td>\n",
       "      <td>7.490000e-33</td>\n",
       "    </tr>\n",
       "    <tr>\n",
       "      <th>3</th>\n",
       "      <td>3s_3p2_4Pe[3/2]</td>\n",
       "      <td>4.0</td>\n",
       "      <td>42932.62</td>\n",
       "      <td>2.66532</td>\n",
       "      <td>11.023</td>\n",
       "      <td>1125.0</td>\n",
       "      <td>4</td>\n",
       "      <td>2.110000e+03</td>\n",
       "      <td>-5.340000e-17</td>\n",
       "      <td>7.490000e-33</td>\n",
       "    </tr>\n",
       "    <tr>\n",
       "      <th>4</th>\n",
       "      <td>3s_3p2_4Pe[5/2]</td>\n",
       "      <td>6.0</td>\n",
       "      <td>43107.91</td>\n",
       "      <td>2.66007</td>\n",
       "      <td>11.001</td>\n",
       "      <td>1127.0</td>\n",
       "      <td>5</td>\n",
       "      <td>3.246000e+03</td>\n",
       "      <td>-5.350000e-17</td>\n",
       "      <td>7.490000e-33</td>\n",
       "    </tr>\n",
       "    <tr>\n",
       "      <th>...</th>\n",
       "      <td>...</td>\n",
       "      <td>...</td>\n",
       "      <td>...</td>\n",
       "      <td>...</td>\n",
       "      <td>...</td>\n",
       "      <td>...</td>\n",
       "      <td>...</td>\n",
       "      <td>...</td>\n",
       "      <td>...</td>\n",
       "      <td>...</td>\n",
       "    </tr>\n",
       "    <tr>\n",
       "      <th>152</th>\n",
       "      <td>3s_3p(3Po)4p_4Pe[3/2]</td>\n",
       "      <td>4.0</td>\n",
       "      <td>134079.00</td>\n",
       "      <td>-0.06718</td>\n",
       "      <td>-0.278</td>\n",
       "      <td>-44630.0</td>\n",
       "      <td>153</td>\n",
       "      <td>1.159000e+08</td>\n",
       "      <td>-1.500000e-16</td>\n",
       "      <td>3.080000e-32</td>\n",
       "    </tr>\n",
       "    <tr>\n",
       "      <th>153</th>\n",
       "      <td>3s_3p(3Po)4p_4Pe[5/2]</td>\n",
       "      <td>6.0</td>\n",
       "      <td>134213.63</td>\n",
       "      <td>-0.07122</td>\n",
       "      <td>-0.295</td>\n",
       "      <td>-42100.0</td>\n",
       "      <td>154</td>\n",
       "      <td>1.167000e+08</td>\n",
       "      <td>-1.500000e-16</td>\n",
       "      <td>3.090000e-32</td>\n",
       "    </tr>\n",
       "    <tr>\n",
       "      <th>154</th>\n",
       "      <td>3s_3p(3Po)4p_4Se[3/2]</td>\n",
       "      <td>4.0</td>\n",
       "      <td>134905.28</td>\n",
       "      <td>-0.09195</td>\n",
       "      <td>-0.380</td>\n",
       "      <td>-32600.0</td>\n",
       "      <td>155</td>\n",
       "      <td>9.275000e+07</td>\n",
       "      <td>-9.750000e-17</td>\n",
       "      <td>2.770000e-32</td>\n",
       "    </tr>\n",
       "    <tr>\n",
       "      <th>155</th>\n",
       "      <td>3p3_2Do[5/2]</td>\n",
       "      <td>6.0</td>\n",
       "      <td>135297.30</td>\n",
       "      <td>-0.10370</td>\n",
       "      <td>-0.429</td>\n",
       "      <td>-28910.0</td>\n",
       "      <td>156</td>\n",
       "      <td>2.437000e+09</td>\n",
       "      <td>4.200000e-17</td>\n",
       "      <td>1.450000e-32</td>\n",
       "    </tr>\n",
       "    <tr>\n",
       "      <th>156</th>\n",
       "      <td>3p3_2Do[3/2]</td>\n",
       "      <td>4.0</td>\n",
       "      <td>135303.50</td>\n",
       "      <td>-0.10389</td>\n",
       "      <td>-0.430</td>\n",
       "      <td>-28860.0</td>\n",
       "      <td>157</td>\n",
       "      <td>2.438000e+09</td>\n",
       "      <td>1.390000e-17</td>\n",
       "      <td>1.460000e-32</td>\n",
       "    </tr>\n",
       "  </tbody>\n",
       "</table>\n",
       "<p>157 rows × 10 columns</p>\n",
       "</div>"
      ],
      "text/plain": [
       "             Configuration    g   E(cm^-1)  10^15 Hz      eV   Lam(A)   ID  \\\n",
       "0          3s2_3p_2Po[1/2]  2.0       0.00   3.95241  16.346    758.5    1   \n",
       "1          3s2_3p_2Po[3/2]  4.0     287.24   3.94380  16.310    760.2    2   \n",
       "2          3s_3p2_4Pe[1/2]  2.0   42824.29   2.66857  11.036   1123.0    3   \n",
       "3          3s_3p2_4Pe[3/2]  4.0   42932.62   2.66532  11.023   1125.0    4   \n",
       "4          3s_3p2_4Pe[5/2]  6.0   43107.91   2.66007  11.001   1127.0    5   \n",
       "..                     ...  ...        ...       ...     ...      ...  ...   \n",
       "152  3s_3p(3Po)4p_4Pe[3/2]  4.0  134079.00  -0.06718  -0.278 -44630.0  153   \n",
       "153  3s_3p(3Po)4p_4Pe[5/2]  6.0  134213.63  -0.07122  -0.295 -42100.0  154   \n",
       "154  3s_3p(3Po)4p_4Se[3/2]  4.0  134905.28  -0.09195  -0.380 -32600.0  155   \n",
       "155           3p3_2Do[5/2]  6.0  135297.30  -0.10370  -0.429 -28910.0  156   \n",
       "156           3p3_2Do[3/2]  4.0  135303.50  -0.10389  -0.430 -28860.0  157   \n",
       "\n",
       "             ARAD            C4            C6  \n",
       "0    0.000000e+00 -5.290000e-17  7.470000e-33  \n",
       "1    0.000000e+00 -5.300000e-17  7.460000e-33  \n",
       "2    1.222000e+04 -5.340000e-17  7.490000e-33  \n",
       "3    2.110000e+03 -5.340000e-17  7.490000e-33  \n",
       "4    3.246000e+03 -5.350000e-17  7.490000e-33  \n",
       "..            ...           ...           ...  \n",
       "152  1.159000e+08 -1.500000e-16  3.080000e-32  \n",
       "153  1.167000e+08 -1.500000e-16  3.090000e-32  \n",
       "154  9.275000e+07 -9.750000e-17  2.770000e-32  \n",
       "155  2.437000e+09  4.200000e-17  1.450000e-32  \n",
       "156  2.438000e+09  1.390000e-17  1.460000e-32  \n",
       "\n",
       "[157 rows x 10 columns]"
      ]
     },
     "execution_count": 6,
     "metadata": {},
     "output_type": "execute_result"
    }
   ],
   "source": [
    "si2_lvl.base"
   ]
  },
  {
   "cell_type": "markdown",
   "metadata": {},
   "source": [
    "Finally, dump the data with the `to_hdf` method."
   ]
  },
  {
   "cell_type": "markdown",
   "metadata": {},
   "source": [
    "### Photoionization Cross-sections\n",
    "\n",
    "Photoionization cross-sections are stored in the `pho` files."
   ]
  },
  {
   "cell_type": "code",
   "execution_count": 7,
   "metadata": {},
   "outputs": [],
   "source": [
    "from carsus.io.cmfgen import CMFGENPhotoionizationCrossSectionParser"
   ]
  },
  {
   "cell_type": "code",
   "execution_count": 8,
   "metadata": {},
   "outputs": [
    {
     "name": "stdout",
     "output_type": "stream",
     "text": [
      "[\u001b[1m                py.warnings\u001b[0m][\u001b[1;33mWARNING\u001b[0m] - /usr/share/miniconda3/envs/carsus/lib/python3.6/site-packages/carsus-0.1.dev652+g9f6d308-py3.6.egg/carsus/io/cmfgen/base.py:423: UserWarning: Pandas doesn't allow columns to be created via a new attribute name - see https://pandas.pydata.org/pandas-docs/stable/indexing.html#attribute-access\n",
      "  df._meta = meta\n",
      " (\u001b[1mwarnings.py\u001b[0m:99)\n"
     ]
    }
   ],
   "source": [
    "si2_cross_sections = CMFGENPhotoionizationCrossSectionParser('/tmp/atomic/SIL/II/16sep15/phot_nahar_A')"
   ]
  },
  {
   "cell_type": "code",
   "execution_count": 9,
   "metadata": {},
   "outputs": [
    {
     "data": {
      "text/plain": [
       "{'Date': '05-Sep-2015',\n",
       " 'Number of energy levels': '93',\n",
       " 'Number of photoionization routes': '2',\n",
       " 'Screened nuclear charge': '2.0',\n",
       " 'Final state in ion': '3s2_1Se/3s21Se',\n",
       " 'Excitation energy of final state': '0.0',\n",
       " 'Statistical weight of ion': '1.0',\n",
       " 'Cross-section unit': 'Megabarns',\n",
       " 'Split J levels': 'False',\n",
       " 'Total number of data pairs': '95107'}"
      ]
     },
     "execution_count": 9,
     "metadata": {},
     "output_type": "execute_result"
    }
   ],
   "source": [
    "si2_cross_sections.meta"
   ]
  },
  {
   "cell_type": "markdown",
   "metadata": {},
   "source": [
    "In this case, the `base` attribute is a list containing many DataFrames."
   ]
  },
  {
   "cell_type": "code",
   "execution_count": 10,
   "metadata": {},
   "outputs": [
    {
     "data": {
      "text/plain": [
       "list"
      ]
     },
     "execution_count": 10,
     "metadata": {},
     "output_type": "execute_result"
    }
   ],
   "source": [
    "type(si2_cross_sections.base)"
   ]
  },
  {
   "cell_type": "code",
   "execution_count": 11,
   "metadata": {},
   "outputs": [
    {
     "data": {
      "text/plain": [
       "93"
      ]
     },
     "execution_count": 11,
     "metadata": {},
     "output_type": "execute_result"
    }
   ],
   "source": [
    "len(si2_cross_sections.base)"
   ]
  },
  {
   "cell_type": "markdown",
   "metadata": {},
   "source": [
    "There are three different types of photoionization cross-sections tables: points, fit coefficients and Verner analytic fits for the ground state shells (not shown in this example)."
   ]
  },
  {
   "cell_type": "code",
   "execution_count": 12,
   "metadata": {},
   "outputs": [
    {
     "data": {
      "text/html": [
       "<div>\n",
       "<style scoped>\n",
       "    .dataframe tbody tr th:only-of-type {\n",
       "        vertical-align: middle;\n",
       "    }\n",
       "\n",
       "    .dataframe tbody tr th {\n",
       "        vertical-align: top;\n",
       "    }\n",
       "\n",
       "    .dataframe thead th {\n",
       "        text-align: right;\n",
       "    }\n",
       "</style>\n",
       "<table border=\"1\" class=\"dataframe\">\n",
       "  <thead>\n",
       "    <tr style=\"text-align: right;\">\n",
       "      <th></th>\n",
       "      <th>Energy</th>\n",
       "      <th>Sigma</th>\n",
       "    </tr>\n",
       "  </thead>\n",
       "  <tbody>\n",
       "    <tr>\n",
       "      <th>0</th>\n",
       "      <td>1.000000</td>\n",
       "      <td>1.414000</td>\n",
       "    </tr>\n",
       "    <tr>\n",
       "      <th>1</th>\n",
       "      <td>1.000333</td>\n",
       "      <td>1.405000</td>\n",
       "    </tr>\n",
       "    <tr>\n",
       "      <th>2</th>\n",
       "      <td>1.000666</td>\n",
       "      <td>1.397000</td>\n",
       "    </tr>\n",
       "    <tr>\n",
       "      <th>3</th>\n",
       "      <td>1.000999</td>\n",
       "      <td>1.388000</td>\n",
       "    </tr>\n",
       "    <tr>\n",
       "      <th>4</th>\n",
       "      <td>1.001332</td>\n",
       "      <td>1.379000</td>\n",
       "    </tr>\n",
       "    <tr>\n",
       "      <th>...</th>\n",
       "      <td>...</td>\n",
       "      <td>...</td>\n",
       "    </tr>\n",
       "    <tr>\n",
       "      <th>1482</th>\n",
       "      <td>17.034180</td>\n",
       "      <td>0.001255</td>\n",
       "    </tr>\n",
       "    <tr>\n",
       "      <th>1483</th>\n",
       "      <td>18.825680</td>\n",
       "      <td>0.000929</td>\n",
       "    </tr>\n",
       "    <tr>\n",
       "      <th>1484</th>\n",
       "      <td>20.805590</td>\n",
       "      <td>0.000689</td>\n",
       "    </tr>\n",
       "    <tr>\n",
       "      <th>1485</th>\n",
       "      <td>22.993730</td>\n",
       "      <td>0.000510</td>\n",
       "    </tr>\n",
       "    <tr>\n",
       "      <th>1486</th>\n",
       "      <td>25.412010</td>\n",
       "      <td>0.000378</td>\n",
       "    </tr>\n",
       "  </tbody>\n",
       "</table>\n",
       "<p>1487 rows × 2 columns</p>\n",
       "</div>"
      ],
      "text/plain": [
       "         Energy     Sigma\n",
       "0      1.000000  1.414000\n",
       "1      1.000333  1.405000\n",
       "2      1.000666  1.397000\n",
       "3      1.000999  1.388000\n",
       "4      1.001332  1.379000\n",
       "...         ...       ...\n",
       "1482  17.034180  0.001255\n",
       "1483  18.825680  0.000929\n",
       "1484  20.805590  0.000689\n",
       "1485  22.993730  0.000510\n",
       "1486  25.412010  0.000378\n",
       "\n",
       "[1487 rows x 2 columns]"
      ]
     },
     "execution_count": 12,
     "metadata": {},
     "output_type": "execute_result"
    }
   ],
   "source": [
    "si2_cross_sections.base[0]"
   ]
  },
  {
   "cell_type": "code",
   "execution_count": 13,
   "metadata": {},
   "outputs": [
    {
     "data": {
      "text/html": [
       "<div>\n",
       "<style scoped>\n",
       "    .dataframe tbody tr th:only-of-type {\n",
       "        vertical-align: middle;\n",
       "    }\n",
       "\n",
       "    .dataframe tbody tr th {\n",
       "        vertical-align: top;\n",
       "    }\n",
       "\n",
       "    .dataframe thead th {\n",
       "        text-align: right;\n",
       "    }\n",
       "</style>\n",
       "<table border=\"1\" class=\"dataframe\">\n",
       "  <thead>\n",
       "    <tr style=\"text-align: right;\">\n",
       "      <th></th>\n",
       "      <th>Fit coefficients</th>\n",
       "    </tr>\n",
       "  </thead>\n",
       "  <tbody>\n",
       "    <tr>\n",
       "      <th>0</th>\n",
       "      <td>1.0</td>\n",
       "    </tr>\n",
       "    <tr>\n",
       "      <th>1</th>\n",
       "      <td>30.0</td>\n",
       "    </tr>\n",
       "  </tbody>\n",
       "</table>\n",
       "</div>"
      ],
      "text/plain": [
       "   Fit coefficients\n",
       "0               1.0\n",
       "1              30.0"
      ]
     },
     "execution_count": 13,
     "metadata": {},
     "output_type": "execute_result"
    }
   ],
   "source": [
    "si2_cross_sections.base[92]"
   ]
  },
  {
   "cell_type": "markdown",
   "metadata": {},
   "source": [
    "### Batch Convert Files to HDF5\n",
    "\n",
    "To convert multiple CMFGEN files to the HDF5 format import the `hdf_dump` function."
   ]
  },
  {
   "cell_type": "code",
   "execution_count": 14,
   "metadata": {},
   "outputs": [],
   "source": [
    "from carsus.io.cmfgen import hdf_dump"
   ]
  },
  {
   "cell_type": "code",
   "execution_count": 15,
   "metadata": {},
   "outputs": [
    {
     "name": "stdout",
     "output_type": "stream",
     "text": [
      "[\u001b[1m    carsus.io.cmfgen.hdfgen\u001b[0m][\u001b[1;37mINFO\u001b[0m] - 311 files selected. (\u001b[1mhdfgen.py\u001b[0m:33)\n"
     ]
    },
    {
     "name": "stdout",
     "output_type": "stream",
     "text": [
      "[\u001b[1m    carsus.io.cmfgen.hdfgen\u001b[0m][\u001b[1;37mINFO\u001b[0m] - Finished. (\u001b[1mhdfgen.py\u001b[0m:58)\n"
     ]
    }
   ],
   "source": [
    "hdf_dump('/tmp/atomic/', ['osc', 'OSC', 'Osc'], CMFGENEnergyLevelsParser(), chunk_size=10, ignore_patterns=['ERROR_CHK'])"
   ]
  },
  {
   "cell_type": "markdown",
   "metadata": {},
   "source": [
    "Required parameters are `cmfgen_dir`, `patterns` and `parser`, while `chunk_size` and `ignore_patterns` are optional."
   ]
  },
  {
   "cell_type": "markdown",
   "metadata": {},
   "source": [
    "## CMFGENReader\n",
    "\n",
    "The `CMFGENReader` mimics the structure of `GFALLReader` and provides `levels` and `lines` tables for the selected ions."
   ]
  },
  {
   "cell_type": "code",
   "execution_count": 16,
   "metadata": {},
   "outputs": [],
   "source": [
    "from carsus.io.cmfgen import CMFGENReader"
   ]
  },
  {
   "cell_type": "markdown",
   "metadata": {},
   "source": [
    "<div class=\"alert alert-info\">\n",
    "\n",
    "**Note:**\n",
    "\n",
    "Remember in Carsus `Si 0` is Si I, `Si 1` is Si II, etc.\n",
    "    \n",
    "See [Notation in Carsus](../development/notation.rst).\n",
    "    \n",
    "</div>"
   ]
  },
  {
   "cell_type": "code",
   "execution_count": 17,
   "metadata": {},
   "outputs": [],
   "source": [
    "cmfgen_data = {'Si 1': {'levels': si2_lvl, 'lines': si2_osc}, }\n",
    "cmfgen_reader = CMFGENReader(cmfgen_data, priority=20)"
   ]
  },
  {
   "cell_type": "code",
   "execution_count": 18,
   "metadata": {},
   "outputs": [
    {
     "data": {
      "text/html": [
       "<div>\n",
       "<style scoped>\n",
       "    .dataframe tbody tr th:only-of-type {\n",
       "        vertical-align: middle;\n",
       "    }\n",
       "\n",
       "    .dataframe tbody tr th {\n",
       "        vertical-align: top;\n",
       "    }\n",
       "\n",
       "    .dataframe thead th {\n",
       "        text-align: right;\n",
       "    }\n",
       "</style>\n",
       "<table border=\"1\" class=\"dataframe\">\n",
       "  <thead>\n",
       "    <tr style=\"text-align: right;\">\n",
       "      <th></th>\n",
       "      <th></th>\n",
       "      <th></th>\n",
       "      <th>energy</th>\n",
       "      <th>j</th>\n",
       "      <th>label</th>\n",
       "      <th>method</th>\n",
       "      <th>priority</th>\n",
       "    </tr>\n",
       "    <tr>\n",
       "      <th>atomic_number</th>\n",
       "      <th>ion_charge</th>\n",
       "      <th>level_index</th>\n",
       "      <th></th>\n",
       "      <th></th>\n",
       "      <th></th>\n",
       "      <th></th>\n",
       "      <th></th>\n",
       "    </tr>\n",
       "  </thead>\n",
       "  <tbody>\n",
       "    <tr>\n",
       "      <th rowspan=\"11\" valign=\"top\">14</th>\n",
       "      <th rowspan=\"11\" valign=\"top\">1</th>\n",
       "      <th>0</th>\n",
       "      <td>0.00</td>\n",
       "      <td>0.5</td>\n",
       "      <td>3s2_3p_2Po[1/2]</td>\n",
       "      <td>meas</td>\n",
       "      <td>20</td>\n",
       "    </tr>\n",
       "    <tr>\n",
       "      <th>1</th>\n",
       "      <td>287.24</td>\n",
       "      <td>1.5</td>\n",
       "      <td>3s2_3p_2Po[3/2]</td>\n",
       "      <td>meas</td>\n",
       "      <td>20</td>\n",
       "    </tr>\n",
       "    <tr>\n",
       "      <th>2</th>\n",
       "      <td>42824.29</td>\n",
       "      <td>0.5</td>\n",
       "      <td>3s_3p2_4Pe[1/2]</td>\n",
       "      <td>meas</td>\n",
       "      <td>20</td>\n",
       "    </tr>\n",
       "    <tr>\n",
       "      <th>3</th>\n",
       "      <td>42932.62</td>\n",
       "      <td>1.5</td>\n",
       "      <td>3s_3p2_4Pe[3/2]</td>\n",
       "      <td>meas</td>\n",
       "      <td>20</td>\n",
       "    </tr>\n",
       "    <tr>\n",
       "      <th>4</th>\n",
       "      <td>43107.91</td>\n",
       "      <td>2.5</td>\n",
       "      <td>3s_3p2_4Pe[5/2]</td>\n",
       "      <td>meas</td>\n",
       "      <td>20</td>\n",
       "    </tr>\n",
       "    <tr>\n",
       "      <th>...</th>\n",
       "      <td>...</td>\n",
       "      <td>...</td>\n",
       "      <td>...</td>\n",
       "      <td>...</td>\n",
       "      <td>...</td>\n",
       "    </tr>\n",
       "    <tr>\n",
       "      <th>152</th>\n",
       "      <td>134079.00</td>\n",
       "      <td>1.5</td>\n",
       "      <td>3s_3p(3Po)4p_4Pe[3/2]</td>\n",
       "      <td>meas</td>\n",
       "      <td>20</td>\n",
       "    </tr>\n",
       "    <tr>\n",
       "      <th>153</th>\n",
       "      <td>134213.63</td>\n",
       "      <td>2.5</td>\n",
       "      <td>3s_3p(3Po)4p_4Pe[5/2]</td>\n",
       "      <td>meas</td>\n",
       "      <td>20</td>\n",
       "    </tr>\n",
       "    <tr>\n",
       "      <th>154</th>\n",
       "      <td>134905.28</td>\n",
       "      <td>1.5</td>\n",
       "      <td>3s_3p(3Po)4p_4Se[3/2]</td>\n",
       "      <td>meas</td>\n",
       "      <td>20</td>\n",
       "    </tr>\n",
       "    <tr>\n",
       "      <th>155</th>\n",
       "      <td>135297.30</td>\n",
       "      <td>2.5</td>\n",
       "      <td>3p3_2Do[5/2]</td>\n",
       "      <td>meas</td>\n",
       "      <td>20</td>\n",
       "    </tr>\n",
       "    <tr>\n",
       "      <th>156</th>\n",
       "      <td>135303.50</td>\n",
       "      <td>1.5</td>\n",
       "      <td>3p3_2Do[3/2]</td>\n",
       "      <td>meas</td>\n",
       "      <td>20</td>\n",
       "    </tr>\n",
       "  </tbody>\n",
       "</table>\n",
       "<p>157 rows × 5 columns</p>\n",
       "</div>"
      ],
      "text/plain": [
       "                                         energy    j                  label  \\\n",
       "atomic_number ion_charge level_index                                          \n",
       "14            1          0                 0.00  0.5        3s2_3p_2Po[1/2]   \n",
       "                         1               287.24  1.5        3s2_3p_2Po[3/2]   \n",
       "                         2             42824.29  0.5        3s_3p2_4Pe[1/2]   \n",
       "                         3             42932.62  1.5        3s_3p2_4Pe[3/2]   \n",
       "                         4             43107.91  2.5        3s_3p2_4Pe[5/2]   \n",
       "...                                         ...  ...                    ...   \n",
       "                         152          134079.00  1.5  3s_3p(3Po)4p_4Pe[3/2]   \n",
       "                         153          134213.63  2.5  3s_3p(3Po)4p_4Pe[5/2]   \n",
       "                         154          134905.28  1.5  3s_3p(3Po)4p_4Se[3/2]   \n",
       "                         155          135297.30  2.5           3p3_2Do[5/2]   \n",
       "                         156          135303.50  1.5           3p3_2Do[3/2]   \n",
       "\n",
       "                                     method  priority  \n",
       "atomic_number ion_charge level_index                   \n",
       "14            1          0             meas        20  \n",
       "                         1             meas        20  \n",
       "                         2             meas        20  \n",
       "                         3             meas        20  \n",
       "                         4             meas        20  \n",
       "...                                     ...       ...  \n",
       "                         152           meas        20  \n",
       "                         153           meas        20  \n",
       "                         154           meas        20  \n",
       "                         155           meas        20  \n",
       "                         156           meas        20  \n",
       "\n",
       "[157 rows x 5 columns]"
      ]
     },
     "execution_count": 18,
     "metadata": {},
     "output_type": "execute_result"
    }
   ],
   "source": [
    "cmfgen_reader.levels"
   ]
  },
  {
   "cell_type": "code",
   "execution_count": 19,
   "metadata": {},
   "outputs": [
    {
     "data": {
      "text/html": [
       "<div>\n",
       "<style scoped>\n",
       "    .dataframe tbody tr th:only-of-type {\n",
       "        vertical-align: middle;\n",
       "    }\n",
       "\n",
       "    .dataframe tbody tr th {\n",
       "        vertical-align: top;\n",
       "    }\n",
       "\n",
       "    .dataframe thead th {\n",
       "        text-align: right;\n",
       "    }\n",
       "</style>\n",
       "<table border=\"1\" class=\"dataframe\">\n",
       "  <thead>\n",
       "    <tr style=\"text-align: right;\">\n",
       "      <th></th>\n",
       "      <th></th>\n",
       "      <th></th>\n",
       "      <th></th>\n",
       "      <th>energy_lower</th>\n",
       "      <th>energy_upper</th>\n",
       "      <th>gf</th>\n",
       "      <th>j_lower</th>\n",
       "      <th>j_upper</th>\n",
       "      <th>wavelength</th>\n",
       "    </tr>\n",
       "    <tr>\n",
       "      <th>atomic_number</th>\n",
       "      <th>ion_charge</th>\n",
       "      <th>level_index_lower</th>\n",
       "      <th>level_index_upper</th>\n",
       "      <th></th>\n",
       "      <th></th>\n",
       "      <th></th>\n",
       "      <th></th>\n",
       "      <th></th>\n",
       "      <th></th>\n",
       "    </tr>\n",
       "  </thead>\n",
       "  <tbody>\n",
       "    <tr>\n",
       "      <th rowspan=\"11\" valign=\"top\">14</th>\n",
       "      <th rowspan=\"11\" valign=\"top\">1</th>\n",
       "      <th rowspan=\"5\" valign=\"top\">0</th>\n",
       "      <th>2</th>\n",
       "      <td>0.00</td>\n",
       "      <td>42824.29</td>\n",
       "      <td>1.148200e-05</td>\n",
       "      <td>0.5</td>\n",
       "      <td>0.5</td>\n",
       "      <td>233.5123</td>\n",
       "    </tr>\n",
       "    <tr>\n",
       "      <th>3</th>\n",
       "      <td>0.00</td>\n",
       "      <td>42932.62</td>\n",
       "      <td>7.128000e-08</td>\n",
       "      <td>0.5</td>\n",
       "      <td>1.5</td>\n",
       "      <td>232.9231</td>\n",
       "    </tr>\n",
       "    <tr>\n",
       "      <th>5</th>\n",
       "      <td>0.00</td>\n",
       "      <td>55309.35</td>\n",
       "      <td>1.527600e-03</td>\n",
       "      <td>0.5</td>\n",
       "      <td>1.5</td>\n",
       "      <td>180.8013</td>\n",
       "    </tr>\n",
       "    <tr>\n",
       "      <th>7</th>\n",
       "      <td>0.00</td>\n",
       "      <td>65500.47</td>\n",
       "      <td>2.558000e-01</td>\n",
       "      <td>0.5</td>\n",
       "      <td>0.5</td>\n",
       "      <td>152.6707</td>\n",
       "    </tr>\n",
       "    <tr>\n",
       "      <th>8</th>\n",
       "      <td>0.00</td>\n",
       "      <td>76665.35</td>\n",
       "      <td>2.124000e-01</td>\n",
       "      <td>0.5</td>\n",
       "      <td>0.5</td>\n",
       "      <td>130.4370</td>\n",
       "    </tr>\n",
       "    <tr>\n",
       "      <th>...</th>\n",
       "      <th>...</th>\n",
       "      <td>...</td>\n",
       "      <td>...</td>\n",
       "      <td>...</td>\n",
       "      <td>...</td>\n",
       "      <td>...</td>\n",
       "      <td>...</td>\n",
       "    </tr>\n",
       "    <tr>\n",
       "      <th>152</th>\n",
       "      <th>156</th>\n",
       "      <td>134079.00</td>\n",
       "      <td>135303.50</td>\n",
       "      <td>1.300000e-05</td>\n",
       "      <td>1.5</td>\n",
       "      <td>1.5</td>\n",
       "      <td>8166.5986</td>\n",
       "    </tr>\n",
       "    <tr>\n",
       "      <th rowspan=\"2\" valign=\"top\">153</th>\n",
       "      <th>155</th>\n",
       "      <td>134213.63</td>\n",
       "      <td>135297.30</td>\n",
       "      <td>3.963000e-06</td>\n",
       "      <td>2.5</td>\n",
       "      <td>2.5</td>\n",
       "      <td>9227.9015</td>\n",
       "    </tr>\n",
       "    <tr>\n",
       "      <th>156</th>\n",
       "      <td>134213.63</td>\n",
       "      <td>135303.50</td>\n",
       "      <td>2.477400e-07</td>\n",
       "      <td>2.5</td>\n",
       "      <td>1.5</td>\n",
       "      <td>9175.4062</td>\n",
       "    </tr>\n",
       "    <tr>\n",
       "      <th rowspan=\"2\" valign=\"top\">154</th>\n",
       "      <th>155</th>\n",
       "      <td>134905.28</td>\n",
       "      <td>135297.30</td>\n",
       "      <td>3.069200e-05</td>\n",
       "      <td>1.5</td>\n",
       "      <td>2.5</td>\n",
       "      <td>25510.0000</td>\n",
       "    </tr>\n",
       "    <tr>\n",
       "      <th>156</th>\n",
       "      <td>134905.28</td>\n",
       "      <td>135303.50</td>\n",
       "      <td>2.697600e-06</td>\n",
       "      <td>1.5</td>\n",
       "      <td>1.5</td>\n",
       "      <td>25110.0000</td>\n",
       "    </tr>\n",
       "  </tbody>\n",
       "</table>\n",
       "<p>4196 rows × 6 columns</p>\n",
       "</div>"
      ],
      "text/plain": [
       "                                                              energy_lower  \\\n",
       "atomic_number ion_charge level_index_lower level_index_upper                 \n",
       "14            1          0                 2                          0.00   \n",
       "                                           3                          0.00   \n",
       "                                           5                          0.00   \n",
       "                                           7                          0.00   \n",
       "                                           8                          0.00   \n",
       "...                                                                    ...   \n",
       "                         152               156                   134079.00   \n",
       "                         153               155                   134213.63   \n",
       "                                           156                   134213.63   \n",
       "                         154               155                   134905.28   \n",
       "                                           156                   134905.28   \n",
       "\n",
       "                                                              energy_upper  \\\n",
       "atomic_number ion_charge level_index_lower level_index_upper                 \n",
       "14            1          0                 2                      42824.29   \n",
       "                                           3                      42932.62   \n",
       "                                           5                      55309.35   \n",
       "                                           7                      65500.47   \n",
       "                                           8                      76665.35   \n",
       "...                                                                    ...   \n",
       "                         152               156                   135303.50   \n",
       "                         153               155                   135297.30   \n",
       "                                           156                   135303.50   \n",
       "                         154               155                   135297.30   \n",
       "                                           156                   135303.50   \n",
       "\n",
       "                                                                        gf  \\\n",
       "atomic_number ion_charge level_index_lower level_index_upper                 \n",
       "14            1          0                 2                  1.148200e-05   \n",
       "                                           3                  7.128000e-08   \n",
       "                                           5                  1.527600e-03   \n",
       "                                           7                  2.558000e-01   \n",
       "                                           8                  2.124000e-01   \n",
       "...                                                                    ...   \n",
       "                         152               156                1.300000e-05   \n",
       "                         153               155                3.963000e-06   \n",
       "                                           156                2.477400e-07   \n",
       "                         154               155                3.069200e-05   \n",
       "                                           156                2.697600e-06   \n",
       "\n",
       "                                                              j_lower  \\\n",
       "atomic_number ion_charge level_index_lower level_index_upper            \n",
       "14            1          0                 2                      0.5   \n",
       "                                           3                      0.5   \n",
       "                                           5                      0.5   \n",
       "                                           7                      0.5   \n",
       "                                           8                      0.5   \n",
       "...                                                               ...   \n",
       "                         152               156                    1.5   \n",
       "                         153               155                    2.5   \n",
       "                                           156                    2.5   \n",
       "                         154               155                    1.5   \n",
       "                                           156                    1.5   \n",
       "\n",
       "                                                              j_upper  \\\n",
       "atomic_number ion_charge level_index_lower level_index_upper            \n",
       "14            1          0                 2                      0.5   \n",
       "                                           3                      1.5   \n",
       "                                           5                      1.5   \n",
       "                                           7                      0.5   \n",
       "                                           8                      0.5   \n",
       "...                                                               ...   \n",
       "                         152               156                    1.5   \n",
       "                         153               155                    2.5   \n",
       "                                           156                    1.5   \n",
       "                         154               155                    2.5   \n",
       "                                           156                    1.5   \n",
       "\n",
       "                                                              wavelength  \n",
       "atomic_number ion_charge level_index_lower level_index_upper              \n",
       "14            1          0                 2                    233.5123  \n",
       "                                           3                    232.9231  \n",
       "                                           5                    180.8013  \n",
       "                                           7                    152.6707  \n",
       "                                           8                    130.4370  \n",
       "...                                                                  ...  \n",
       "                         152               156                 8166.5986  \n",
       "                         153               155                 9227.9015  \n",
       "                                           156                 9175.4062  \n",
       "                         154               155                25510.0000  \n",
       "                                           156                25110.0000  \n",
       "\n",
       "[4196 rows x 6 columns]"
      ]
     },
     "execution_count": 19,
     "metadata": {},
     "output_type": "execute_result"
    }
   ],
   "source": [
    "cmfgen_reader.lines"
   ]
  }
 ],
 "metadata": {
  "kernelspec": {
   "display_name": "Python 3",
   "language": "python",
   "name": "python3"
  },
  "language_info": {
   "codemirror_mode": {
    "name": "ipython",
    "version": 3
   },
   "file_extension": ".py",
   "mimetype": "text/x-python",
   "name": "python",
   "nbconvert_exporter": "python",
   "pygments_lexer": "ipython3",
   "version": "3.6.13"
  }
 },
 "nbformat": 4,
 "nbformat_minor": 4
}
